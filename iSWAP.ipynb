{
 "cells": [
  {
   "cell_type": "markdown",
   "metadata": {},
   "source": [
    "# Quantum Computing Architecture and Hardware for Engineers - Step by Step\n",
    "## Hiu-Yung Wong"
   ]
  },
  {
   "cell_type": "markdown",
   "metadata": {},
   "source": [
    "# Implementation of CNOT gate using iSWAP gates"
   ]
  },
  {
   "cell_type": "code",
   "execution_count": 4,
   "metadata": {},
   "outputs": [
    {
     "name": "stdout",
     "output_type": "stream",
     "text": [
      "[[1.+0.j 0.+0.j 0.+0.j 0.+0.j]\n",
      " [0.+0.j 1.+0.j 0.+0.j 0.+0.j]\n",
      " [0.+0.j 0.+0.j 0.+0.j 1.+0.j]\n",
      " [0.+0.j 0.+0.j 1.+0.j 0.+0.j]]\n"
     ]
    }
   ],
   "source": [
    "#Import library\n",
    "import numpy as np\n",
    "#Define individual gates\n",
    "I = np.array([[1,0],[0,1]])\n",
    "Rzpi_2 = np.array([[np.exp(-1j*np.pi/4),0],\\\n",
    "                   [0,np.exp(1j*np.pi/4)]])\n",
    "Rxpi_2 = np.array([[np.cos(np.pi/4),-1j*np.sin(np.pi/4)],\\\n",
    "                   [-1j*np.sin(np.pi/4),np.cos(np.pi/4)]])\n",
    "R_neg_zpi_2 = np.array([[np.exp(1j*np.pi/4),0],\\\n",
    "                        [0,np.exp(-1j*np.pi/4)]])\n",
    "iSWAP = np.array([[1,0,0,0],[0,0,1j,0],[0,1j,0,0],[0,0,0,1]])\n",
    "Phase_pi_8 = np.array([[np.exp(1j*np.pi/8),0],\\\n",
    "                       [0,np.exp(1j*np.pi/8)]])\n",
    "#Perform tensor product and matrix multiplications\n",
    "stage1 = np.kron(I,Rxpi_2)\n",
    "stage2 = np.matmul(np.kron(R_neg_zpi_2,Rzpi_2),stage1)       \n",
    "stage3 = np.matmul(iSWAP,stage2)\n",
    "stage4 = np.matmul(np.kron(Rxpi_2,I),stage3)   \n",
    "stage5 = np.matmul(iSWAP,stage4)\n",
    "stage6 = np.matmul(np.kron(I,Rzpi_2),stage5)  \n",
    "stage7 = np.matmul(np.kron(Phase_pi_8,Phase_pi_8),stage6)  \n",
    "#print the final matrix\n",
    "print(stage7)"
   ]
  },
  {
   "cell_type": "code",
   "execution_count": null,
   "metadata": {},
   "outputs": [],
   "source": []
  }
 ],
 "metadata": {
  "kernelspec": {
   "display_name": "Python 3 (ipykernel)",
   "language": "python",
   "name": "python3"
  },
  "language_info": {
   "codemirror_mode": {
    "name": "ipython",
    "version": 3
   },
   "file_extension": ".py",
   "mimetype": "text/x-python",
   "name": "python",
   "nbconvert_exporter": "python",
   "pygments_lexer": "ipython3",
   "version": "3.9.19"
  }
 },
 "nbformat": 4,
 "nbformat_minor": 4
}
